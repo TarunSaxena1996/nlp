{
 "cells": [
  {
   "cell_type": "code",
   "execution_count": 1,
   "metadata": {},
   "outputs": [],
   "source": [
    "from tensorflow.keras.preprocessing.text import one_hot"
   ]
  },
  {
   "cell_type": "code",
   "execution_count": 2,
   "metadata": {},
   "outputs": [],
   "source": [
    "### sentences\n",
    "sent=[  'the glass of milk',\n",
    "     'the glass of juice',\n",
    "     'the cup of tea',\n",
    "    'I am a good boy',\n",
    "     'I am a good developer',\n",
    "     'understand the meaning of words',\n",
    "     'your videos are good',]"
   ]
  },
  {
   "cell_type": "code",
   "execution_count": 3,
   "metadata": {},
   "outputs": [
    {
     "data": {
      "text/plain": [
       "['the glass of milk',\n",
       " 'the glass of juice',\n",
       " 'the cup of tea',\n",
       " 'I am a good boy',\n",
       " 'I am a good developer',\n",
       " 'understand the meaning of words',\n",
       " 'your videos are good']"
      ]
     },
     "execution_count": 3,
     "metadata": {},
     "output_type": "execute_result"
    }
   ],
   "source": [
    "sent"
   ]
  },
  {
   "cell_type": "code",
   "execution_count": 4,
   "metadata": {},
   "outputs": [],
   "source": [
    "## Define the vocabulary size\n",
    "voc_size=10000"
   ]
  },
  {
   "cell_type": "code",
   "execution_count": 5,
   "metadata": {},
   "outputs": [
    {
     "data": {
      "text/plain": [
       "['the glass of milk',\n",
       " 'the glass of juice',\n",
       " 'the cup of tea',\n",
       " 'I am a good boy',\n",
       " 'I am a good developer',\n",
       " 'understand the meaning of words',\n",
       " 'your videos are good']"
      ]
     },
     "execution_count": 5,
     "metadata": {},
     "output_type": "execute_result"
    }
   ],
   "source": [
    "sent"
   ]
  },
  {
   "cell_type": "code",
   "execution_count": 6,
   "metadata": {},
   "outputs": [
    {
     "data": {
      "text/plain": [
       "[[8067, 135, 4239, 9313],\n",
       " [8067, 135, 4239, 1382],\n",
       " [8067, 3098, 4239, 3179],\n",
       " [7249, 4627, 508, 3198, 4903],\n",
       " [7249, 4627, 508, 3198, 2710],\n",
       " [6971, 8067, 9394, 4239, 2727],\n",
       " [176, 1481, 1261, 3198]]"
      ]
     },
     "execution_count": 6,
     "metadata": {},
     "output_type": "execute_result"
    }
   ],
   "source": [
    "### One Hot Representation\n",
    "one_hot_repr=[one_hot(words,voc_size)for words in sent]\n",
    "one_hot_repr"
   ]
  },
  {
   "cell_type": "code",
   "execution_count": 8,
   "metadata": {},
   "outputs": [],
   "source": [
    "## word Embedding Representation\n",
    "\n",
    "from tensorflow.keras.layers import Embedding\n",
    "#from tensorflow.keras.processing.sequence import pad_sequences\n",
    "from tensorflow.keras.utils import pad_sequences\n",
    "from tensorflow.keras.models import Sequential"
   ]
  },
  {
   "cell_type": "code",
   "execution_count": 9,
   "metadata": {},
   "outputs": [],
   "source": [
    "import numpy as np"
   ]
  },
  {
   "cell_type": "code",
   "execution_count": 10,
   "metadata": {},
   "outputs": [
    {
     "name": "stdout",
     "output_type": "stream",
     "text": [
      "[[   0    0    0    0 8067  135 4239 9313]\n",
      " [   0    0    0    0 8067  135 4239 1382]\n",
      " [   0    0    0    0 8067 3098 4239 3179]\n",
      " [   0    0    0 7249 4627  508 3198 4903]\n",
      " [   0    0    0 7249 4627  508 3198 2710]\n",
      " [   0    0    0 6971 8067 9394 4239 2727]\n",
      " [   0    0    0    0  176 1481 1261 3198]]\n"
     ]
    }
   ],
   "source": [
    "sent_length=8\n",
    "embedded_docs=pad_sequences(one_hot_repr,padding='pre',maxlen=sent_length)\n",
    "print(embedded_docs)"
   ]
  },
  {
   "cell_type": "code",
   "execution_count": 11,
   "metadata": {},
   "outputs": [],
   "source": [
    "## feature representation\n",
    "dim=10"
   ]
  },
  {
   "cell_type": "code",
   "execution_count": 12,
   "metadata": {},
   "outputs": [
    {
     "name": "stderr",
     "output_type": "stream",
     "text": [
      "/opt/anaconda3/envs/mlops/lib/python3.10/site-packages/keras/src/layers/core/embedding.py:90: UserWarning: Argument `input_length` is deprecated. Just remove it.\n",
      "  warnings.warn(\n"
     ]
    }
   ],
   "source": [
    "model=Sequential()\n",
    "model.add(Embedding(voc_size,dim,input_length=sent_length))\n",
    "model.compile('adam','mse')"
   ]
  },
  {
   "cell_type": "code",
   "execution_count": 13,
   "metadata": {},
   "outputs": [
    {
     "data": {
      "text/html": [
       "<pre style=\"white-space:pre;overflow-x:auto;line-height:normal;font-family:Menlo,'DejaVu Sans Mono',consolas,'Courier New',monospace\"><span style=\"font-weight: bold\">Model: \"sequential\"</span>\n",
       "</pre>\n"
      ],
      "text/plain": [
       "\u001b[1mModel: \"sequential\"\u001b[0m\n"
      ]
     },
     "metadata": {},
     "output_type": "display_data"
    },
    {
     "data": {
      "text/html": [
       "<pre style=\"white-space:pre;overflow-x:auto;line-height:normal;font-family:Menlo,'DejaVu Sans Mono',consolas,'Courier New',monospace\">┏━━━━━━━━━━━━━━━━━━━━━━━━━━━━━━━━━┳━━━━━━━━━━━━━━━━━━━━━━━━┳━━━━━━━━━━━━━━━┓\n",
       "┃<span style=\"font-weight: bold\"> Layer (type)                    </span>┃<span style=\"font-weight: bold\"> Output Shape           </span>┃<span style=\"font-weight: bold\">       Param # </span>┃\n",
       "┡━━━━━━━━━━━━━━━━━━━━━━━━━━━━━━━━━╇━━━━━━━━━━━━━━━━━━━━━━━━╇━━━━━━━━━━━━━━━┩\n",
       "│ embedding (<span style=\"color: #0087ff; text-decoration-color: #0087ff\">Embedding</span>)           │ ?                      │   <span style=\"color: #00af00; text-decoration-color: #00af00\">0</span> (unbuilt) │\n",
       "└─────────────────────────────────┴────────────────────────┴───────────────┘\n",
       "</pre>\n"
      ],
      "text/plain": [
       "┏━━━━━━━━━━━━━━━━━━━━━━━━━━━━━━━━━┳━━━━━━━━━━━━━━━━━━━━━━━━┳━━━━━━━━━━━━━━━┓\n",
       "┃\u001b[1m \u001b[0m\u001b[1mLayer (type)                   \u001b[0m\u001b[1m \u001b[0m┃\u001b[1m \u001b[0m\u001b[1mOutput Shape          \u001b[0m\u001b[1m \u001b[0m┃\u001b[1m \u001b[0m\u001b[1m      Param #\u001b[0m\u001b[1m \u001b[0m┃\n",
       "┡━━━━━━━━━━━━━━━━━━━━━━━━━━━━━━━━━╇━━━━━━━━━━━━━━━━━━━━━━━━╇━━━━━━━━━━━━━━━┩\n",
       "│ embedding (\u001b[38;5;33mEmbedding\u001b[0m)           │ ?                      │   \u001b[38;5;34m0\u001b[0m (unbuilt) │\n",
       "└─────────────────────────────────┴────────────────────────┴───────────────┘\n"
      ]
     },
     "metadata": {},
     "output_type": "display_data"
    },
    {
     "data": {
      "text/html": [
       "<pre style=\"white-space:pre;overflow-x:auto;line-height:normal;font-family:Menlo,'DejaVu Sans Mono',consolas,'Courier New',monospace\"><span style=\"font-weight: bold\"> Total params: </span><span style=\"color: #00af00; text-decoration-color: #00af00\">0</span> (0.00 B)\n",
       "</pre>\n"
      ],
      "text/plain": [
       "\u001b[1m Total params: \u001b[0m\u001b[38;5;34m0\u001b[0m (0.00 B)\n"
      ]
     },
     "metadata": {},
     "output_type": "display_data"
    },
    {
     "data": {
      "text/html": [
       "<pre style=\"white-space:pre;overflow-x:auto;line-height:normal;font-family:Menlo,'DejaVu Sans Mono',consolas,'Courier New',monospace\"><span style=\"font-weight: bold\"> Trainable params: </span><span style=\"color: #00af00; text-decoration-color: #00af00\">0</span> (0.00 B)\n",
       "</pre>\n"
      ],
      "text/plain": [
       "\u001b[1m Trainable params: \u001b[0m\u001b[38;5;34m0\u001b[0m (0.00 B)\n"
      ]
     },
     "metadata": {},
     "output_type": "display_data"
    },
    {
     "data": {
      "text/html": [
       "<pre style=\"white-space:pre;overflow-x:auto;line-height:normal;font-family:Menlo,'DejaVu Sans Mono',consolas,'Courier New',monospace\"><span style=\"font-weight: bold\"> Non-trainable params: </span><span style=\"color: #00af00; text-decoration-color: #00af00\">0</span> (0.00 B)\n",
       "</pre>\n"
      ],
      "text/plain": [
       "\u001b[1m Non-trainable params: \u001b[0m\u001b[38;5;34m0\u001b[0m (0.00 B)\n"
      ]
     },
     "metadata": {},
     "output_type": "display_data"
    }
   ],
   "source": [
    "model.summary()"
   ]
  },
  {
   "cell_type": "code",
   "execution_count": 14,
   "metadata": {},
   "outputs": [
    {
     "name": "stdout",
     "output_type": "stream",
     "text": [
      "\u001b[1m1/1\u001b[0m \u001b[32m━━━━━━━━━━━━━━━━━━━━\u001b[0m\u001b[37m\u001b[0m \u001b[1m0s\u001b[0m 50ms/step\n"
     ]
    },
    {
     "data": {
      "text/plain": [
       "array([[[-0.0239777 ,  0.02726508,  0.03723553,  0.00372796,\n",
       "          0.02072493,  0.0126592 , -0.00707173, -0.00821612,\n",
       "         -0.00784976, -0.00113914],\n",
       "        [-0.0239777 ,  0.02726508,  0.03723553,  0.00372796,\n",
       "          0.02072493,  0.0126592 , -0.00707173, -0.00821612,\n",
       "         -0.00784976, -0.00113914],\n",
       "        [-0.0239777 ,  0.02726508,  0.03723553,  0.00372796,\n",
       "          0.02072493,  0.0126592 , -0.00707173, -0.00821612,\n",
       "         -0.00784976, -0.00113914],\n",
       "        [-0.0239777 ,  0.02726508,  0.03723553,  0.00372796,\n",
       "          0.02072493,  0.0126592 , -0.00707173, -0.00821612,\n",
       "         -0.00784976, -0.00113914],\n",
       "        [ 0.04421022,  0.01091539, -0.00770543, -0.00747959,\n",
       "         -0.02457299,  0.0115706 ,  0.01981458, -0.03572328,\n",
       "          0.00341822, -0.00487614],\n",
       "        [ 0.03013955,  0.01973044, -0.01665433,  0.01521349,\n",
       "         -0.02525864,  0.01908142,  0.00591341,  0.00864427,\n",
       "          0.03831651, -0.01001956],\n",
       "        [ 0.03549435,  0.0333229 ,  0.04691746,  0.04876155,\n",
       "          0.0398307 , -0.04251399, -0.0075647 ,  0.00498872,\n",
       "          0.00378629, -0.03812312],\n",
       "        [-0.01168577, -0.04613671,  0.02200328, -0.04528951,\n",
       "          0.00742403, -0.03768772,  0.01713014, -0.02249222,\n",
       "         -0.04963161, -0.03149857]],\n",
       "\n",
       "       [[-0.0239777 ,  0.02726508,  0.03723553,  0.00372796,\n",
       "          0.02072493,  0.0126592 , -0.00707173, -0.00821612,\n",
       "         -0.00784976, -0.00113914],\n",
       "        [-0.0239777 ,  0.02726508,  0.03723553,  0.00372796,\n",
       "          0.02072493,  0.0126592 , -0.00707173, -0.00821612,\n",
       "         -0.00784976, -0.00113914],\n",
       "        [-0.0239777 ,  0.02726508,  0.03723553,  0.00372796,\n",
       "          0.02072493,  0.0126592 , -0.00707173, -0.00821612,\n",
       "         -0.00784976, -0.00113914],\n",
       "        [-0.0239777 ,  0.02726508,  0.03723553,  0.00372796,\n",
       "          0.02072493,  0.0126592 , -0.00707173, -0.00821612,\n",
       "         -0.00784976, -0.00113914],\n",
       "        [ 0.04421022,  0.01091539, -0.00770543, -0.00747959,\n",
       "         -0.02457299,  0.0115706 ,  0.01981458, -0.03572328,\n",
       "          0.00341822, -0.00487614],\n",
       "        [ 0.03013955,  0.01973044, -0.01665433,  0.01521349,\n",
       "         -0.02525864,  0.01908142,  0.00591341,  0.00864427,\n",
       "          0.03831651, -0.01001956],\n",
       "        [ 0.03549435,  0.0333229 ,  0.04691746,  0.04876155,\n",
       "          0.0398307 , -0.04251399, -0.0075647 ,  0.00498872,\n",
       "          0.00378629, -0.03812312],\n",
       "        [ 0.03438037,  0.0438729 ,  0.04808972,  0.0207646 ,\n",
       "         -0.03034805,  0.04161854,  0.03333988,  0.00314624,\n",
       "         -0.01566702,  0.0351722 ]],\n",
       "\n",
       "       [[-0.0239777 ,  0.02726508,  0.03723553,  0.00372796,\n",
       "          0.02072493,  0.0126592 , -0.00707173, -0.00821612,\n",
       "         -0.00784976, -0.00113914],\n",
       "        [-0.0239777 ,  0.02726508,  0.03723553,  0.00372796,\n",
       "          0.02072493,  0.0126592 , -0.00707173, -0.00821612,\n",
       "         -0.00784976, -0.00113914],\n",
       "        [-0.0239777 ,  0.02726508,  0.03723553,  0.00372796,\n",
       "          0.02072493,  0.0126592 , -0.00707173, -0.00821612,\n",
       "         -0.00784976, -0.00113914],\n",
       "        [-0.0239777 ,  0.02726508,  0.03723553,  0.00372796,\n",
       "          0.02072493,  0.0126592 , -0.00707173, -0.00821612,\n",
       "         -0.00784976, -0.00113914],\n",
       "        [ 0.04421022,  0.01091539, -0.00770543, -0.00747959,\n",
       "         -0.02457299,  0.0115706 ,  0.01981458, -0.03572328,\n",
       "          0.00341822, -0.00487614],\n",
       "        [ 0.02157405,  0.01247155,  0.04672446, -0.039357  ,\n",
       "         -0.04115868,  0.01202829, -0.00247691, -0.01251696,\n",
       "         -0.03543565,  0.00633306],\n",
       "        [ 0.03549435,  0.0333229 ,  0.04691746,  0.04876155,\n",
       "          0.0398307 , -0.04251399, -0.0075647 ,  0.00498872,\n",
       "          0.00378629, -0.03812312],\n",
       "        [ 0.04334905,  0.04016628, -0.0182923 , -0.02500852,\n",
       "         -0.00904995, -0.02054936,  0.00229249, -0.02629643,\n",
       "          0.02225199,  0.00457088]],\n",
       "\n",
       "       [[-0.0239777 ,  0.02726508,  0.03723553,  0.00372796,\n",
       "          0.02072493,  0.0126592 , -0.00707173, -0.00821612,\n",
       "         -0.00784976, -0.00113914],\n",
       "        [-0.0239777 ,  0.02726508,  0.03723553,  0.00372796,\n",
       "          0.02072493,  0.0126592 , -0.00707173, -0.00821612,\n",
       "         -0.00784976, -0.00113914],\n",
       "        [-0.0239777 ,  0.02726508,  0.03723553,  0.00372796,\n",
       "          0.02072493,  0.0126592 , -0.00707173, -0.00821612,\n",
       "         -0.00784976, -0.00113914],\n",
       "        [-0.02174124,  0.00997173,  0.04728817, -0.00349236,\n",
       "         -0.04451696,  0.00418358,  0.0370126 , -0.00471901,\n",
       "         -0.01597502,  0.01586399],\n",
       "        [-0.03432779,  0.04987672,  0.02384097,  0.02563599,\n",
       "         -0.03618286,  0.02738727,  0.0151742 ,  0.02597035,\n",
       "         -0.04426817, -0.03418601],\n",
       "        [-0.02931728,  0.00251955, -0.0249633 , -0.01419773,\n",
       "         -0.03489703, -0.04479824,  0.03221612,  0.03324349,\n",
       "          0.0399859 ,  0.04639306],\n",
       "        [-0.02706301,  0.0117895 ,  0.01638064,  0.0011062 ,\n",
       "         -0.00690786,  0.00551716, -0.03980968, -0.01937939,\n",
       "          0.03817413,  0.04861248],\n",
       "        [-0.02223398,  0.04079935,  0.03807297,  0.04821527,\n",
       "          0.0241891 , -0.04814661, -0.02395593,  0.0093894 ,\n",
       "          0.04259776, -0.02979815]],\n",
       "\n",
       "       [[-0.0239777 ,  0.02726508,  0.03723553,  0.00372796,\n",
       "          0.02072493,  0.0126592 , -0.00707173, -0.00821612,\n",
       "         -0.00784976, -0.00113914],\n",
       "        [-0.0239777 ,  0.02726508,  0.03723553,  0.00372796,\n",
       "          0.02072493,  0.0126592 , -0.00707173, -0.00821612,\n",
       "         -0.00784976, -0.00113914],\n",
       "        [-0.0239777 ,  0.02726508,  0.03723553,  0.00372796,\n",
       "          0.02072493,  0.0126592 , -0.00707173, -0.00821612,\n",
       "         -0.00784976, -0.00113914],\n",
       "        [-0.02174124,  0.00997173,  0.04728817, -0.00349236,\n",
       "         -0.04451696,  0.00418358,  0.0370126 , -0.00471901,\n",
       "         -0.01597502,  0.01586399],\n",
       "        [-0.03432779,  0.04987672,  0.02384097,  0.02563599,\n",
       "         -0.03618286,  0.02738727,  0.0151742 ,  0.02597035,\n",
       "         -0.04426817, -0.03418601],\n",
       "        [-0.02931728,  0.00251955, -0.0249633 , -0.01419773,\n",
       "         -0.03489703, -0.04479824,  0.03221612,  0.03324349,\n",
       "          0.0399859 ,  0.04639306],\n",
       "        [-0.02706301,  0.0117895 ,  0.01638064,  0.0011062 ,\n",
       "         -0.00690786,  0.00551716, -0.03980968, -0.01937939,\n",
       "          0.03817413,  0.04861248],\n",
       "        [ 0.0339289 , -0.03812497, -0.02971119, -0.02235319,\n",
       "         -0.01512574,  0.00903884, -0.02650189, -0.01291012,\n",
       "         -0.01049157, -0.00248091]],\n",
       "\n",
       "       [[-0.0239777 ,  0.02726508,  0.03723553,  0.00372796,\n",
       "          0.02072493,  0.0126592 , -0.00707173, -0.00821612,\n",
       "         -0.00784976, -0.00113914],\n",
       "        [-0.0239777 ,  0.02726508,  0.03723553,  0.00372796,\n",
       "          0.02072493,  0.0126592 , -0.00707173, -0.00821612,\n",
       "         -0.00784976, -0.00113914],\n",
       "        [-0.0239777 ,  0.02726508,  0.03723553,  0.00372796,\n",
       "          0.02072493,  0.0126592 , -0.00707173, -0.00821612,\n",
       "         -0.00784976, -0.00113914],\n",
       "        [ 0.00714732,  0.02213489, -0.04342877, -0.00425564,\n",
       "         -0.02700176,  0.04321467, -0.03161692,  0.04918995,\n",
       "         -0.0192835 ,  0.01532978],\n",
       "        [ 0.04421022,  0.01091539, -0.00770543, -0.00747959,\n",
       "         -0.02457299,  0.0115706 ,  0.01981458, -0.03572328,\n",
       "          0.00341822, -0.00487614],\n",
       "        [-0.0363727 ,  0.03836742,  0.00931893,  0.01716175,\n",
       "          0.0370006 ,  0.00848191,  0.00631241, -0.04744241,\n",
       "          0.03486956, -0.04270944],\n",
       "        [ 0.03549435,  0.0333229 ,  0.04691746,  0.04876155,\n",
       "          0.0398307 , -0.04251399, -0.0075647 ,  0.00498872,\n",
       "          0.00378629, -0.03812312],\n",
       "        [ 0.00521544, -0.01138612, -0.04446439, -0.03426139,\n",
       "          0.00274777,  0.03129114, -0.02281141, -0.03793241,\n",
       "          0.04095807,  0.04795128]],\n",
       "\n",
       "       [[-0.0239777 ,  0.02726508,  0.03723553,  0.00372796,\n",
       "          0.02072493,  0.0126592 , -0.00707173, -0.00821612,\n",
       "         -0.00784976, -0.00113914],\n",
       "        [-0.0239777 ,  0.02726508,  0.03723553,  0.00372796,\n",
       "          0.02072493,  0.0126592 , -0.00707173, -0.00821612,\n",
       "         -0.00784976, -0.00113914],\n",
       "        [-0.0239777 ,  0.02726508,  0.03723553,  0.00372796,\n",
       "          0.02072493,  0.0126592 , -0.00707173, -0.00821612,\n",
       "         -0.00784976, -0.00113914],\n",
       "        [-0.0239777 ,  0.02726508,  0.03723553,  0.00372796,\n",
       "          0.02072493,  0.0126592 , -0.00707173, -0.00821612,\n",
       "         -0.00784976, -0.00113914],\n",
       "        [-0.00204344, -0.04277402, -0.04767717,  0.03546282,\n",
       "          0.04091379, -0.04496812, -0.00153752,  0.04122138,\n",
       "         -0.00187321,  0.04031951],\n",
       "        [ 0.00268473,  0.03345956,  0.03177163,  0.04622546,\n",
       "         -0.00648022,  0.04778009, -0.00481759, -0.03349356,\n",
       "          0.03257326, -0.00080753],\n",
       "        [ 0.03692554, -0.02648447, -0.04126097,  0.00618639,\n",
       "          0.00714409,  0.02809357, -0.03197034, -0.02849691,\n",
       "         -0.041449  , -0.0255922 ],\n",
       "        [-0.02706301,  0.0117895 ,  0.01638064,  0.0011062 ,\n",
       "         -0.00690786,  0.00551716, -0.03980968, -0.01937939,\n",
       "          0.03817413,  0.04861248]]], dtype=float32)"
      ]
     },
     "execution_count": 14,
     "metadata": {},
     "output_type": "execute_result"
    }
   ],
   "source": [
    "model.predict(embedded_docs)"
   ]
  },
  {
   "cell_type": "code",
   "execution_count": 21,
   "metadata": {},
   "outputs": [
    {
     "data": {
      "text/plain": [
       "[array([   0,    0,    0,    0, 8067,  135, 4239, 9313], dtype=int32)]"
      ]
     },
     "execution_count": 21,
     "metadata": {},
     "output_type": "execute_result"
    }
   ],
   "source": [
    "[embedded_docs[0]]"
   ]
  },
  {
   "cell_type": "code",
   "execution_count": 22,
   "metadata": {},
   "outputs": [
    {
     "data": {
      "text/plain": [
       "array([[   0,    0,    0,    0, 8067,  135, 4239, 9313]], dtype=int32)"
      ]
     },
     "execution_count": 22,
     "metadata": {},
     "output_type": "execute_result"
    }
   ],
   "source": [
    "np.expand_dims(embedded_docs[0], axis=0)"
   ]
  },
  {
   "cell_type": "code",
   "execution_count": 23,
   "metadata": {},
   "outputs": [
    {
     "name": "stdout",
     "output_type": "stream",
     "text": [
      "\u001b[1m1/1\u001b[0m \u001b[32m━━━━━━━━━━━━━━━━━━━━\u001b[0m\u001b[37m\u001b[0m \u001b[1m0s\u001b[0m 24ms/step\n"
     ]
    },
    {
     "data": {
      "text/plain": [
       "array([[[-0.0239777 ,  0.02726508,  0.03723553,  0.00372796,\n",
       "          0.02072493,  0.0126592 , -0.00707173, -0.00821612,\n",
       "         -0.00784976, -0.00113914],\n",
       "        [-0.0239777 ,  0.02726508,  0.03723553,  0.00372796,\n",
       "          0.02072493,  0.0126592 , -0.00707173, -0.00821612,\n",
       "         -0.00784976, -0.00113914],\n",
       "        [-0.0239777 ,  0.02726508,  0.03723553,  0.00372796,\n",
       "          0.02072493,  0.0126592 , -0.00707173, -0.00821612,\n",
       "         -0.00784976, -0.00113914],\n",
       "        [-0.0239777 ,  0.02726508,  0.03723553,  0.00372796,\n",
       "          0.02072493,  0.0126592 , -0.00707173, -0.00821612,\n",
       "         -0.00784976, -0.00113914],\n",
       "        [ 0.04421022,  0.01091539, -0.00770543, -0.00747959,\n",
       "         -0.02457299,  0.0115706 ,  0.01981458, -0.03572328,\n",
       "          0.00341822, -0.00487614],\n",
       "        [ 0.03013955,  0.01973044, -0.01665433,  0.01521349,\n",
       "         -0.02525864,  0.01908142,  0.00591341,  0.00864427,\n",
       "          0.03831651, -0.01001956],\n",
       "        [ 0.03549435,  0.0333229 ,  0.04691746,  0.04876155,\n",
       "          0.0398307 , -0.04251399, -0.0075647 ,  0.00498872,\n",
       "          0.00378629, -0.03812312],\n",
       "        [-0.01168577, -0.04613671,  0.02200328, -0.04528951,\n",
       "          0.00742403, -0.03768772,  0.01713014, -0.02249222,\n",
       "         -0.04963161, -0.03149857]]], dtype=float32)"
      ]
     },
     "execution_count": 23,
     "metadata": {},
     "output_type": "execute_result"
    }
   ],
   "source": [
    "model.predict(np.expand_dims(embedded_docs[0], axis=0))"
   ]
  },
  {
   "cell_type": "code",
   "execution_count": 1,
   "metadata": {},
   "outputs": [
    {
     "name": "stdout",
     "output_type": "stream",
     "text": [
      "Num GPUs Available: 0\n",
      "GPUs: []\n",
      "Built with GPU support: False\n",
      "WARNING:tensorflow:From /var/folders/b8/plswkcd932j01py0lgq0nmzh0000gn/T/ipykernel_70536/2374394924.py:11: is_gpu_available (from tensorflow.python.framework.test_util) is deprecated and will be removed in a future version.\n",
      "Instructions for updating:\n",
      "Use `tf.config.list_physical_devices('GPU')` instead.\n",
      "Is GPU available: False\n"
     ]
    }
   ],
   "source": [
    "import tensorflow as tf\n",
    "\n",
    "# List available devices\n",
    "print(\"Num GPUs Available:\", len(tf.config.list_physical_devices('GPU')))\n",
    "print(\"GPUs:\", tf.config.list_physical_devices('GPU'))\n",
    "\n",
    "# Check if TensorFlow is built with GPU support\n",
    "print(\"Built with GPU support:\", tf.test.is_built_with_gpu_support())\n",
    "\n",
    "# Test if TensorFlow can access the GPU\n",
    "print(\"Is GPU available:\", tf.test.is_gpu_available())"
   ]
  },
  {
   "cell_type": "code",
   "execution_count": null,
   "metadata": {},
   "outputs": [],
   "source": []
  }
 ],
 "metadata": {
  "kernelspec": {
   "display_name": "mlops",
   "language": "python",
   "name": "python3"
  },
  "language_info": {
   "codemirror_mode": {
    "name": "ipython",
    "version": 3
   },
   "file_extension": ".py",
   "mimetype": "text/x-python",
   "name": "python",
   "nbconvert_exporter": "python",
   "pygments_lexer": "ipython3",
   "version": "3.10.16"
  }
 },
 "nbformat": 4,
 "nbformat_minor": 2
}
